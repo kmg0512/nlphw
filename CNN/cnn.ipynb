{
 "cells": [
  {
   "cell_type": "code",
   "execution_count": 78,
   "metadata": {},
   "outputs": [],
   "source": [
    "import random\n",
    "import re\n",
    "import sys\n",
    "import time\n",
    "from collections import defaultdict\n",
    "\n",
    "import numpy as np\n",
    "import torch\n",
    "import torch.nn as nn\n",
    "import torch.nn.functional as F\n",
    "import torch.optim as optim\n",
    "from torch.autograd import Variable\n",
    "from torch.utils.data import DataLoader, TensorDataset\n",
    "from tqdm import tqdm_notebook"
   ]
  },
  {
   "cell_type": "code",
   "execution_count": 79,
   "metadata": {},
   "outputs": [],
   "source": [
    "def clean_str(string):\n",
    "    string = re.sub(r\"[^A-Za-z0-9(),!?\\'\\`]\", \" \", string)\n",
    "    string = re.sub(r\"\\'s\", \" \\'s\", string)\n",
    "    string = re.sub(r\"\\'ve\", \" \\'ve\", string)\n",
    "    string = re.sub(r\"n\\'t\", \" n\\'t\", string)\n",
    "    string = re.sub(r\"\\'re\", \" \\'re\", string)\n",
    "    string = re.sub(r\"\\'d\", \" \\'d\", string)\n",
    "    string = re.sub(r\"\\'ll\", \" \\'ll\", string)\n",
    "    string = re.sub(r\",\", \" , \", string)\n",
    "    string = re.sub(r\"!\", \" ! \", string)\n",
    "    string = re.sub(r\"\\(\", \" \\( \", string)\n",
    "    string = re.sub(r\"\\)\", \" \\) \", string)\n",
    "    string = re.sub(r\"\\?\", \" \\? \", string)\n",
    "    string = re.sub(r\"\\s{2,}\", \" \", string)\n",
    "    return string.strip().lower()"
   ]
  },
  {
   "cell_type": "code",
   "execution_count": 80,
   "metadata": {},
   "outputs": [],
   "source": [
    "def build_data():\n",
    "    \"\"\"\n",
    "    Loads data\n",
    "    \"\"\"\n",
    "    files = [\"rt-polarity.neg\", \"rt-polarity.pos\"]\n",
    "    revs = []\n",
    "    vocab = defaultdict(float)\n",
    "    max_l = 0\n",
    "    for i in range(2):\n",
    "        with open(files[i], \"r\", encoding=\"cp1252\") as f:\n",
    "            for line in f:\n",
    "                orig_rev = clean_str(line.strip())\n",
    "                words = set(orig_rev.split())\n",
    "                for word in words:\n",
    "                    vocab[word] += 1\n",
    "                datum  = {\"y\":i, \"text\": orig_rev}\n",
    "                if len(orig_rev.split()) > max_l:\n",
    "                    max_l = len(orig_rev.split())\n",
    "                revs.append(datum)\n",
    "    return revs, vocab, max_l"
   ]
  },
  {
   "cell_type": "code",
   "execution_count": 81,
   "metadata": {},
   "outputs": [
    {
     "name": "stdout",
     "output_type": "stream",
     "text": [
      "loading data... data loaded!\n",
      "number of sentences: 10662\n",
      "vocab size: 18764\n",
      "max sentence length: 56\n"
     ]
    }
   ],
   "source": [
    "# read MR dataset\n",
    "print(\"loading data...\", end=' ')\n",
    "revs, vocab, max_l = build_data()\n",
    "print(\"data loaded!\")\n",
    "\n",
    "print(\"number of sentences: \" + str(len(revs)))             # 10662\n",
    "print(\"vocab size: \" + str(len(vocab)))                     # 18764\n",
    "print(\"max sentence length: \" + str(max_l))                 # 56"
   ]
  },
  {
   "cell_type": "code",
   "execution_count": 82,
   "metadata": {},
   "outputs": [],
   "source": [
    "def load_bin_vec(fname, vocab):\n",
    "    \"\"\"\n",
    "    Loads 300x1 word vecs from Google (Mikolov) word2vec\n",
    "    \"\"\"\n",
    "    word_vecs = {}\n",
    "    with open(fname, \"rb\") as f:\n",
    "        header = f.readline()\n",
    "        vocab_size, layer1_size = map(int, header.split())  # 3000000, 300\n",
    "        binary_len = 4 * layer1_size\n",
    "        for line in tqdm_notebook(range(vocab_size), desc='load_bin_vec'):\n",
    "            word = []\n",
    "            while True:\n",
    "                ch = f.read(1).decode(\"latin1\")\n",
    "                if ch == ' ':\n",
    "                    word = ''.join(word)\n",
    "                    break\n",
    "                if ch != '\\n':\n",
    "                    word.append(ch)\n",
    "            if word in vocab:\n",
    "                word_vecs[word] = torch.from_numpy(np.frombuffer(f.read(binary_len), dtype='float32'))\n",
    "            else:\n",
    "                f.read(binary_len)\n",
    "    return word_vecs, layer1_size"
   ]
  },
  {
   "cell_type": "code",
   "execution_count": 83,
   "metadata": {},
   "outputs": [
    {
     "name": "stdout",
     "output_type": "stream",
     "text": [
      "loading word2vec vectors... "
     ]
    },
    {
     "data": {
      "application/vnd.jupyter.widget-view+json": {
       "model_id": "774e652ccaac44b08df8c6c0082ef735",
       "version_major": 2,
       "version_minor": 0
      },
      "text/plain": [
       "HBox(children=(IntProgress(value=0, description='load_bin_vec', max=3000000, style=ProgressStyle(description_w…"
      ]
     },
     "metadata": {},
     "output_type": "display_data"
    },
    {
     "name": "stdout",
     "output_type": "stream",
     "text": [
      "word2vec loaded!\n",
      "num words already in word2vec: 16448\n"
     ]
    }
   ],
   "source": [
    "# read pre-trained word2vec\n",
    "print(\"loading word2vec vectors...\", end=' ')\n",
    "word_vecs, k = load_bin_vec(\"GoogleNews-vectors-negative300.bin\", vocab)\n",
    "print(\"word2vec loaded!\")\n",
    "\n",
    "print(\"num words already in word2vec: \" + str(len(word_vecs)))    # 16448"
   ]
  },
  {
   "cell_type": "code",
   "execution_count": 84,
   "metadata": {},
   "outputs": [
    {
     "name": "stdout",
     "output_type": "stream",
     "text": [
      "dataset created!\n"
     ]
    }
   ],
   "source": [
    "# Embedding layer\n",
    "embedding = nn.Embedding(len(vocab)+1, k, padding_idx=0)\n",
    "W = {}\n",
    "word_idx_map = {}\n",
    "W[\"rand\"] = W[\"vec\"] = embedding(torch.LongTensor(range(len(vocab)+1))) # torch.Size([18765, 300])\n",
    "for word, i in zip(vocab, range(1,len(vocab)+1)):\n",
    "    if word in word_vecs:\n",
    "        W[\"vec\"][i] = word_vecs[word]\n",
    "    word_idx_map[word] = i\n",
    "print(\"dataset created!\")"
   ]
  },
  {
   "cell_type": "code",
   "execution_count": 85,
   "metadata": {},
   "outputs": [],
   "source": [
    "def get_idx_from_sent(sent, word_idx_map, max_l=56, k=300):\n",
    "    \"\"\"\n",
    "    Transforms sentence into a list of indices. Pad with zeroes.\n",
    "    \"\"\"\n",
    "    x = []\n",
    "    words = sent.split()\n",
    "    for word in words:\n",
    "        if word in word_idx_map:\n",
    "            x.append(word_idx_map[word])\n",
    "    while len(x) < max_l:\n",
    "        x.append(0)\n",
    "    return x"
   ]
  },
  {
   "cell_type": "code",
   "execution_count": 86,
   "metadata": {},
   "outputs": [],
   "source": [
    "def make_idx_data(revs, word_idx_map, max_l=56, k=300):\n",
    "    \"\"\"\n",
    "    Transforms sentences into a 2-d matrix.\n",
    "    \"\"\"\n",
    "    train_x_idx, train_y, test_x_idx, test_y = [], [], [], []\n",
    "    random.shuffle(revs)\n",
    "    for rev, i in zip(revs, range(len(revs))):\n",
    "        sent = get_idx_from_sent(rev[\"text\"], word_idx_map, max_l, k)\n",
    "        if i < len(revs) / 10:\n",
    "            test_x_idx.append(sent)\n",
    "            test_y.append(rev[\"y\"])\n",
    "        else:\n",
    "            train_x_idx.append(sent)\n",
    "            train_y.append(rev[\"y\"])\n",
    "    train_y = torch.LongTensor(train_y)\n",
    "    test_y = torch.LongTensor(test_y)\n",
    "    return train_x_idx, train_y, test_x_idx, test_y"
   ]
  },
  {
   "cell_type": "code",
   "execution_count": 87,
   "metadata": {},
   "outputs": [],
   "source": [
    "def make_data(x_idx, W, max_l=56, k=300):\n",
    "    x = torch.Tensor(len(x_idx), 1, max_l * k)\n",
    "    for i, sent in enumerate(x_idx):\n",
    "        xx = []\n",
    "        for idx in sent:\n",
    "            xx.append(W[idx])\n",
    "        x[i] = torch.cat(tuple(xx))\n",
    "    return x"
   ]
  },
  {
   "cell_type": "code",
   "execution_count": 88,
   "metadata": {},
   "outputs": [],
   "source": [
    "class CNN(nn.Module):\n",
    "    def __init__(self, hs, feature, k, p):\n",
    "        super(CNN, self).__init__()\n",
    "        for h in hs:\n",
    "            conv = nn.Conv1d(1, feature, h * k, stride=k)\n",
    "            setattr(self, 'conv%d' % h, conv)\n",
    "        self.relu = nn.ReLU()\n",
    "        self.pool = nn.AdaptiveMaxPool1d(1)\n",
    "        self.drop = nn.Dropout(p)\n",
    "        self.fc = nn.Linear(len(hs) * feature, 2)\n",
    "        self.loss = nn.LogSoftmax(dim=-1)\n",
    "        self.hs = hs\n",
    "        \n",
    "    def forward(self, x):\n",
    "        outs = []\n",
    "        for h in self.hs:\n",
    "            conv = getattr(self, 'conv%d' % h)\n",
    "            out = self.drop(self.relu(conv(x)))\n",
    "            out = self.pool(out)\n",
    "            outs.append(out)\n",
    "        outs = torch.cat(outs, dim=1).reshape(-1, 300)\n",
    "        outs = self.fc(outs)\n",
    "        return self.loss(outs)"
   ]
  },
  {
   "cell_type": "code",
   "execution_count": 89,
   "metadata": {},
   "outputs": [],
   "source": [
    "def cnn_trainer(train_loader, test_x, test_y, W, non_static, h=[3,4,5], feature=100, p=0.5, s=3, k=300):\n",
    "    criterion = nn.CrossEntropyLoss()\n",
    "    model = CNN(h, feature, k, p)\n",
    "    optimizer = optim.SGD(model.parameters(), lr=0.01)\n",
    "\n",
    "    total_loss=0\n",
    "    for epoch in tqdm_notebook(range(25), desc='epoch', leave=False):\n",
    "        total_loss = 0\n",
    "        for train_x, train_y in tqdm_notebook(train_loader, desc='train', leave=False):\n",
    "            train_x, train_y = Variable(train_x), Variable(train_y)\n",
    "            optimizer.zero_grad()\n",
    "            output = model(train_x)\n",
    "            loss = criterion(output, train_y)\n",
    "            loss.backward()\n",
    "            optimizer.step()\n",
    "            total_loss += loss.data\n",
    "        if (epoch+1) % 5 == 0:\n",
    "            print(epoch+1, total_loss)\n",
    "    \n",
    "    test_x, test_y = Variable(test_x), Variable(test_y)\n",
    "    result = torch.max(model(test_x).data, 1)[1]\n",
    "    accuracy = sum(test_y.data.numpy() == result.numpy()) / len(test_y.data.numpy())\n",
    "    \n",
    "    return accuracy"
   ]
  },
  {
   "cell_type": "code",
   "execution_count": 90,
   "metadata": {},
   "outputs": [
    {
     "data": {
      "application/vnd.jupyter.widget-view+json": {
       "model_id": "",
       "version_major": 2,
       "version_minor": 0
      },
      "text/plain": [
       "HBox(children=(IntProgress(value=0, description='i', max=3, style=ProgressStyle(description_width='initial')),…"
      ]
     },
     "metadata": {},
     "output_type": "display_data"
    },
    {
     "data": {
      "application/vnd.jupyter.widget-view+json": {
       "model_id": "",
       "version_major": 2,
       "version_minor": 0
      },
      "text/plain": [
       "HBox(children=(IntProgress(value=0, description='epoch', max=25, style=ProgressStyle(description_width='initia…"
      ]
     },
     "metadata": {},
     "output_type": "display_data"
    },
    {
     "data": {
      "application/vnd.jupyter.widget-view+json": {
       "model_id": "",
       "version_major": 2,
       "version_minor": 0
      },
      "text/plain": [
       "HBox(children=(IntProgress(value=0, description='train', max=192, style=ProgressStyle(description_width='initi…"
      ]
     },
     "metadata": {},
     "output_type": "display_data"
    },
    {
     "data": {
      "application/vnd.jupyter.widget-view+json": {
       "model_id": "",
       "version_major": 2,
       "version_minor": 0
      },
      "text/plain": [
       "HBox(children=(IntProgress(value=0, description='train', max=192, style=ProgressStyle(description_width='initi…"
      ]
     },
     "metadata": {},
     "output_type": "display_data"
    },
    {
     "data": {
      "application/vnd.jupyter.widget-view+json": {
       "model_id": "",
       "version_major": 2,
       "version_minor": 0
      },
      "text/plain": [
       "HBox(children=(IntProgress(value=0, description='train', max=192, style=ProgressStyle(description_width='initi…"
      ]
     },
     "metadata": {},
     "output_type": "display_data"
    },
    {
     "data": {
      "application/vnd.jupyter.widget-view+json": {
       "model_id": "",
       "version_major": 2,
       "version_minor": 0
      },
      "text/plain": [
       "HBox(children=(IntProgress(value=0, description='train', max=192, style=ProgressStyle(description_width='initi…"
      ]
     },
     "metadata": {},
     "output_type": "display_data"
    },
    {
     "data": {
      "application/vnd.jupyter.widget-view+json": {
       "model_id": "",
       "version_major": 2,
       "version_minor": 0
      },
      "text/plain": [
       "HBox(children=(IntProgress(value=0, description='train', max=192, style=ProgressStyle(description_width='initi…"
      ]
     },
     "metadata": {},
     "output_type": "display_data"
    },
    {
     "name": "stdout",
     "output_type": "stream",
     "text": [
      "5 tensor(122.1577)\n"
     ]
    },
    {
     "data": {
      "application/vnd.jupyter.widget-view+json": {
       "model_id": "",
       "version_major": 2,
       "version_minor": 0
      },
      "text/plain": [
       "HBox(children=(IntProgress(value=0, description='train', max=192, style=ProgressStyle(description_width='initi…"
      ]
     },
     "metadata": {},
     "output_type": "display_data"
    },
    {
     "data": {
      "application/vnd.jupyter.widget-view+json": {
       "model_id": "",
       "version_major": 2,
       "version_minor": 0
      },
      "text/plain": [
       "HBox(children=(IntProgress(value=0, description='train', max=192, style=ProgressStyle(description_width='initi…"
      ]
     },
     "metadata": {},
     "output_type": "display_data"
    },
    {
     "data": {
      "application/vnd.jupyter.widget-view+json": {
       "model_id": "",
       "version_major": 2,
       "version_minor": 0
      },
      "text/plain": [
       "HBox(children=(IntProgress(value=0, description='train', max=192, style=ProgressStyle(description_width='initi…"
      ]
     },
     "metadata": {},
     "output_type": "display_data"
    },
    {
     "data": {
      "application/vnd.jupyter.widget-view+json": {
       "model_id": "",
       "version_major": 2,
       "version_minor": 0
      },
      "text/plain": [
       "HBox(children=(IntProgress(value=0, description='train', max=192, style=ProgressStyle(description_width='initi…"
      ]
     },
     "metadata": {},
     "output_type": "display_data"
    },
    {
     "data": {
      "application/vnd.jupyter.widget-view+json": {
       "model_id": "",
       "version_major": 2,
       "version_minor": 0
      },
      "text/plain": [
       "HBox(children=(IntProgress(value=0, description='train', max=192, style=ProgressStyle(description_width='initi…"
      ]
     },
     "metadata": {},
     "output_type": "display_data"
    },
    {
     "name": "stdout",
     "output_type": "stream",
     "text": [
      "10 tensor(105.1105)\n"
     ]
    },
    {
     "data": {
      "application/vnd.jupyter.widget-view+json": {
       "model_id": "",
       "version_major": 2,
       "version_minor": 0
      },
      "text/plain": [
       "HBox(children=(IntProgress(value=0, description='train', max=192, style=ProgressStyle(description_width='initi…"
      ]
     },
     "metadata": {},
     "output_type": "display_data"
    },
    {
     "data": {
      "application/vnd.jupyter.widget-view+json": {
       "model_id": "",
       "version_major": 2,
       "version_minor": 0
      },
      "text/plain": [
       "HBox(children=(IntProgress(value=0, description='train', max=192, style=ProgressStyle(description_width='initi…"
      ]
     },
     "metadata": {},
     "output_type": "display_data"
    },
    {
     "data": {
      "application/vnd.jupyter.widget-view+json": {
       "model_id": "",
       "version_major": 2,
       "version_minor": 0
      },
      "text/plain": [
       "HBox(children=(IntProgress(value=0, description='train', max=192, style=ProgressStyle(description_width='initi…"
      ]
     },
     "metadata": {},
     "output_type": "display_data"
    },
    {
     "data": {
      "application/vnd.jupyter.widget-view+json": {
       "model_id": "",
       "version_major": 2,
       "version_minor": 0
      },
      "text/plain": [
       "HBox(children=(IntProgress(value=0, description='train', max=192, style=ProgressStyle(description_width='initi…"
      ]
     },
     "metadata": {},
     "output_type": "display_data"
    },
    {
     "data": {
      "application/vnd.jupyter.widget-view+json": {
       "model_id": "",
       "version_major": 2,
       "version_minor": 0
      },
      "text/plain": [
       "HBox(children=(IntProgress(value=0, description='train', max=192, style=ProgressStyle(description_width='initi…"
      ]
     },
     "metadata": {},
     "output_type": "display_data"
    },
    {
     "name": "stdout",
     "output_type": "stream",
     "text": [
      "15 tensor(92.8276)\n"
     ]
    },
    {
     "data": {
      "application/vnd.jupyter.widget-view+json": {
       "model_id": "",
       "version_major": 2,
       "version_minor": 0
      },
      "text/plain": [
       "HBox(children=(IntProgress(value=0, description='train', max=192, style=ProgressStyle(description_width='initi…"
      ]
     },
     "metadata": {},
     "output_type": "display_data"
    },
    {
     "data": {
      "application/vnd.jupyter.widget-view+json": {
       "model_id": "",
       "version_major": 2,
       "version_minor": 0
      },
      "text/plain": [
       "HBox(children=(IntProgress(value=0, description='train', max=192, style=ProgressStyle(description_width='initi…"
      ]
     },
     "metadata": {},
     "output_type": "display_data"
    },
    {
     "data": {
      "application/vnd.jupyter.widget-view+json": {
       "model_id": "",
       "version_major": 2,
       "version_minor": 0
      },
      "text/plain": [
       "HBox(children=(IntProgress(value=0, description='train', max=192, style=ProgressStyle(description_width='initi…"
      ]
     },
     "metadata": {},
     "output_type": "display_data"
    },
    {
     "data": {
      "application/vnd.jupyter.widget-view+json": {
       "model_id": "",
       "version_major": 2,
       "version_minor": 0
      },
      "text/plain": [
       "HBox(children=(IntProgress(value=0, description='train', max=192, style=ProgressStyle(description_width='initi…"
      ]
     },
     "metadata": {},
     "output_type": "display_data"
    },
    {
     "data": {
      "application/vnd.jupyter.widget-view+json": {
       "model_id": "",
       "version_major": 2,
       "version_minor": 0
      },
      "text/plain": [
       "HBox(children=(IntProgress(value=0, description='train', max=192, style=ProgressStyle(description_width='initi…"
      ]
     },
     "metadata": {},
     "output_type": "display_data"
    },
    {
     "name": "stdout",
     "output_type": "stream",
     "text": [
      "20 tensor(85.3687)\n"
     ]
    },
    {
     "data": {
      "application/vnd.jupyter.widget-view+json": {
       "model_id": "",
       "version_major": 2,
       "version_minor": 0
      },
      "text/plain": [
       "HBox(children=(IntProgress(value=0, description='train', max=192, style=ProgressStyle(description_width='initi…"
      ]
     },
     "metadata": {},
     "output_type": "display_data"
    },
    {
     "data": {
      "application/vnd.jupyter.widget-view+json": {
       "model_id": "",
       "version_major": 2,
       "version_minor": 0
      },
      "text/plain": [
       "HBox(children=(IntProgress(value=0, description='train', max=192, style=ProgressStyle(description_width='initi…"
      ]
     },
     "metadata": {},
     "output_type": "display_data"
    },
    {
     "data": {
      "application/vnd.jupyter.widget-view+json": {
       "model_id": "",
       "version_major": 2,
       "version_minor": 0
      },
      "text/plain": [
       "HBox(children=(IntProgress(value=0, description='train', max=192, style=ProgressStyle(description_width='initi…"
      ]
     },
     "metadata": {},
     "output_type": "display_data"
    },
    {
     "data": {
      "application/vnd.jupyter.widget-view+json": {
       "model_id": "",
       "version_major": 2,
       "version_minor": 0
      },
      "text/plain": [
       "HBox(children=(IntProgress(value=0, description='train', max=192, style=ProgressStyle(description_width='initi…"
      ]
     },
     "metadata": {},
     "output_type": "display_data"
    },
    {
     "data": {
      "application/vnd.jupyter.widget-view+json": {
       "model_id": "",
       "version_major": 2,
       "version_minor": 0
      },
      "text/plain": [
       "HBox(children=(IntProgress(value=0, description='train', max=192, style=ProgressStyle(description_width='initi…"
      ]
     },
     "metadata": {},
     "output_type": "display_data"
    },
    {
     "name": "stdout",
     "output_type": "stream",
     "text": [
      "25 tensor(77.5863)\n",
      "0.7207122774133083\n"
     ]
    },
    {
     "data": {
      "application/vnd.jupyter.widget-view+json": {
       "model_id": "",
       "version_major": 2,
       "version_minor": 0
      },
      "text/plain": [
       "HBox(children=(IntProgress(value=0, description='epoch', max=25, style=ProgressStyle(description_width='initia…"
      ]
     },
     "metadata": {},
     "output_type": "display_data"
    },
    {
     "data": {
      "application/vnd.jupyter.widget-view+json": {
       "model_id": "",
       "version_major": 2,
       "version_minor": 0
      },
      "text/plain": [
       "HBox(children=(IntProgress(value=0, description='train', max=192, style=ProgressStyle(description_width='initi…"
      ]
     },
     "metadata": {},
     "output_type": "display_data"
    },
    {
     "data": {
      "application/vnd.jupyter.widget-view+json": {
       "model_id": "",
       "version_major": 2,
       "version_minor": 0
      },
      "text/plain": [
       "HBox(children=(IntProgress(value=0, description='train', max=192, style=ProgressStyle(description_width='initi…"
      ]
     },
     "metadata": {},
     "output_type": "display_data"
    },
    {
     "data": {
      "application/vnd.jupyter.widget-view+json": {
       "model_id": "",
       "version_major": 2,
       "version_minor": 0
      },
      "text/plain": [
       "HBox(children=(IntProgress(value=0, description='train', max=192, style=ProgressStyle(description_width='initi…"
      ]
     },
     "metadata": {},
     "output_type": "display_data"
    },
    {
     "data": {
      "application/vnd.jupyter.widget-view+json": {
       "model_id": "",
       "version_major": 2,
       "version_minor": 0
      },
      "text/plain": [
       "HBox(children=(IntProgress(value=0, description='train', max=192, style=ProgressStyle(description_width='initi…"
      ]
     },
     "metadata": {},
     "output_type": "display_data"
    },
    {
     "data": {
      "application/vnd.jupyter.widget-view+json": {
       "model_id": "",
       "version_major": 2,
       "version_minor": 0
      },
      "text/plain": [
       "HBox(children=(IntProgress(value=0, description='train', max=192, style=ProgressStyle(description_width='initi…"
      ]
     },
     "metadata": {},
     "output_type": "display_data"
    },
    {
     "name": "stdout",
     "output_type": "stream",
     "text": [
      "5 tensor(122.0233)\n"
     ]
    },
    {
     "data": {
      "application/vnd.jupyter.widget-view+json": {
       "model_id": "",
       "version_major": 2,
       "version_minor": 0
      },
      "text/plain": [
       "HBox(children=(IntProgress(value=0, description='train', max=192, style=ProgressStyle(description_width='initi…"
      ]
     },
     "metadata": {},
     "output_type": "display_data"
    },
    {
     "data": {
      "application/vnd.jupyter.widget-view+json": {
       "model_id": "",
       "version_major": 2,
       "version_minor": 0
      },
      "text/plain": [
       "HBox(children=(IntProgress(value=0, description='train', max=192, style=ProgressStyle(description_width='initi…"
      ]
     },
     "metadata": {},
     "output_type": "display_data"
    },
    {
     "data": {
      "application/vnd.jupyter.widget-view+json": {
       "model_id": "",
       "version_major": 2,
       "version_minor": 0
      },
      "text/plain": [
       "HBox(children=(IntProgress(value=0, description='train', max=192, style=ProgressStyle(description_width='initi…"
      ]
     },
     "metadata": {},
     "output_type": "display_data"
    },
    {
     "data": {
      "application/vnd.jupyter.widget-view+json": {
       "model_id": "",
       "version_major": 2,
       "version_minor": 0
      },
      "text/plain": [
       "HBox(children=(IntProgress(value=0, description='train', max=192, style=ProgressStyle(description_width='initi…"
      ]
     },
     "metadata": {},
     "output_type": "display_data"
    },
    {
     "data": {
      "application/vnd.jupyter.widget-view+json": {
       "model_id": "",
       "version_major": 2,
       "version_minor": 0
      },
      "text/plain": [
       "HBox(children=(IntProgress(value=0, description='train', max=192, style=ProgressStyle(description_width='initi…"
      ]
     },
     "metadata": {},
     "output_type": "display_data"
    },
    {
     "name": "stdout",
     "output_type": "stream",
     "text": [
      "10 tensor(105.8668)\n"
     ]
    },
    {
     "data": {
      "application/vnd.jupyter.widget-view+json": {
       "model_id": "",
       "version_major": 2,
       "version_minor": 0
      },
      "text/plain": [
       "HBox(children=(IntProgress(value=0, description='train', max=192, style=ProgressStyle(description_width='initi…"
      ]
     },
     "metadata": {},
     "output_type": "display_data"
    },
    {
     "data": {
      "application/vnd.jupyter.widget-view+json": {
       "model_id": "",
       "version_major": 2,
       "version_minor": 0
      },
      "text/plain": [
       "HBox(children=(IntProgress(value=0, description='train', max=192, style=ProgressStyle(description_width='initi…"
      ]
     },
     "metadata": {},
     "output_type": "display_data"
    },
    {
     "data": {
      "application/vnd.jupyter.widget-view+json": {
       "model_id": "",
       "version_major": 2,
       "version_minor": 0
      },
      "text/plain": [
       "HBox(children=(IntProgress(value=0, description='train', max=192, style=ProgressStyle(description_width='initi…"
      ]
     },
     "metadata": {},
     "output_type": "display_data"
    },
    {
     "data": {
      "application/vnd.jupyter.widget-view+json": {
       "model_id": "",
       "version_major": 2,
       "version_minor": 0
      },
      "text/plain": [
       "HBox(children=(IntProgress(value=0, description='train', max=192, style=ProgressStyle(description_width='initi…"
      ]
     },
     "metadata": {},
     "output_type": "display_data"
    },
    {
     "data": {
      "application/vnd.jupyter.widget-view+json": {
       "model_id": "",
       "version_major": 2,
       "version_minor": 0
      },
      "text/plain": [
       "HBox(children=(IntProgress(value=0, description='train', max=192, style=ProgressStyle(description_width='initi…"
      ]
     },
     "metadata": {},
     "output_type": "display_data"
    },
    {
     "name": "stdout",
     "output_type": "stream",
     "text": [
      "15 tensor(93.7513)\n"
     ]
    },
    {
     "data": {
      "application/vnd.jupyter.widget-view+json": {
       "model_id": "",
       "version_major": 2,
       "version_minor": 0
      },
      "text/plain": [
       "HBox(children=(IntProgress(value=0, description='train', max=192, style=ProgressStyle(description_width='initi…"
      ]
     },
     "metadata": {},
     "output_type": "display_data"
    },
    {
     "data": {
      "application/vnd.jupyter.widget-view+json": {
       "model_id": "",
       "version_major": 2,
       "version_minor": 0
      },
      "text/plain": [
       "HBox(children=(IntProgress(value=0, description='train', max=192, style=ProgressStyle(description_width='initi…"
      ]
     },
     "metadata": {},
     "output_type": "display_data"
    },
    {
     "data": {
      "application/vnd.jupyter.widget-view+json": {
       "model_id": "",
       "version_major": 2,
       "version_minor": 0
      },
      "text/plain": [
       "HBox(children=(IntProgress(value=0, description='train', max=192, style=ProgressStyle(description_width='initi…"
      ]
     },
     "metadata": {},
     "output_type": "display_data"
    },
    {
     "data": {
      "application/vnd.jupyter.widget-view+json": {
       "model_id": "",
       "version_major": 2,
       "version_minor": 0
      },
      "text/plain": [
       "HBox(children=(IntProgress(value=0, description='train', max=192, style=ProgressStyle(description_width='initi…"
      ]
     },
     "metadata": {},
     "output_type": "display_data"
    },
    {
     "data": {
      "application/vnd.jupyter.widget-view+json": {
       "model_id": "",
       "version_major": 2,
       "version_minor": 0
      },
      "text/plain": [
       "HBox(children=(IntProgress(value=0, description='train', max=192, style=ProgressStyle(description_width='initi…"
      ]
     },
     "metadata": {},
     "output_type": "display_data"
    },
    {
     "name": "stdout",
     "output_type": "stream",
     "text": [
      "20 tensor(84.0120)\n"
     ]
    },
    {
     "data": {
      "application/vnd.jupyter.widget-view+json": {
       "model_id": "",
       "version_major": 2,
       "version_minor": 0
      },
      "text/plain": [
       "HBox(children=(IntProgress(value=0, description='train', max=192, style=ProgressStyle(description_width='initi…"
      ]
     },
     "metadata": {},
     "output_type": "display_data"
    },
    {
     "data": {
      "application/vnd.jupyter.widget-view+json": {
       "model_id": "",
       "version_major": 2,
       "version_minor": 0
      },
      "text/plain": [
       "HBox(children=(IntProgress(value=0, description='train', max=192, style=ProgressStyle(description_width='initi…"
      ]
     },
     "metadata": {},
     "output_type": "display_data"
    },
    {
     "data": {
      "application/vnd.jupyter.widget-view+json": {
       "model_id": "",
       "version_major": 2,
       "version_minor": 0
      },
      "text/plain": [
       "HBox(children=(IntProgress(value=0, description='train', max=192, style=ProgressStyle(description_width='initi…"
      ]
     },
     "metadata": {},
     "output_type": "display_data"
    },
    {
     "data": {
      "application/vnd.jupyter.widget-view+json": {
       "model_id": "",
       "version_major": 2,
       "version_minor": 0
      },
      "text/plain": [
       "HBox(children=(IntProgress(value=0, description='train', max=192, style=ProgressStyle(description_width='initi…"
      ]
     },
     "metadata": {},
     "output_type": "display_data"
    },
    {
     "data": {
      "application/vnd.jupyter.widget-view+json": {
       "model_id": "",
       "version_major": 2,
       "version_minor": 0
      },
      "text/plain": [
       "HBox(children=(IntProgress(value=0, description='train', max=192, style=ProgressStyle(description_width='initi…"
      ]
     },
     "metadata": {},
     "output_type": "display_data"
    },
    {
     "name": "stdout",
     "output_type": "stream",
     "text": [
      "25 tensor(77.5493)\n",
      "0.7357075913776945\n"
     ]
    },
    {
     "data": {
      "application/vnd.jupyter.widget-view+json": {
       "model_id": "",
       "version_major": 2,
       "version_minor": 0
      },
      "text/plain": [
       "HBox(children=(IntProgress(value=0, description='epoch', max=25, style=ProgressStyle(description_width='initia…"
      ]
     },
     "metadata": {},
     "output_type": "display_data"
    },
    {
     "data": {
      "application/vnd.jupyter.widget-view+json": {
       "model_id": "",
       "version_major": 2,
       "version_minor": 0
      },
      "text/plain": [
       "HBox(children=(IntProgress(value=0, description='train', max=192, style=ProgressStyle(description_width='initi…"
      ]
     },
     "metadata": {},
     "output_type": "display_data"
    },
    {
     "data": {
      "application/vnd.jupyter.widget-view+json": {
       "model_id": "",
       "version_major": 2,
       "version_minor": 0
      },
      "text/plain": [
       "HBox(children=(IntProgress(value=0, description='train', max=192, style=ProgressStyle(description_width='initi…"
      ]
     },
     "metadata": {},
     "output_type": "display_data"
    },
    {
     "data": {
      "application/vnd.jupyter.widget-view+json": {
       "model_id": "",
       "version_major": 2,
       "version_minor": 0
      },
      "text/plain": [
       "HBox(children=(IntProgress(value=0, description='train', max=192, style=ProgressStyle(description_width='initi…"
      ]
     },
     "metadata": {},
     "output_type": "display_data"
    },
    {
     "data": {
      "application/vnd.jupyter.widget-view+json": {
       "model_id": "",
       "version_major": 2,
       "version_minor": 0
      },
      "text/plain": [
       "HBox(children=(IntProgress(value=0, description='train', max=192, style=ProgressStyle(description_width='initi…"
      ]
     },
     "metadata": {},
     "output_type": "display_data"
    },
    {
     "data": {
      "application/vnd.jupyter.widget-view+json": {
       "model_id": "",
       "version_major": 2,
       "version_minor": 0
      },
      "text/plain": [
       "HBox(children=(IntProgress(value=0, description='train', max=192, style=ProgressStyle(description_width='initi…"
      ]
     },
     "metadata": {},
     "output_type": "display_data"
    },
    {
     "name": "stdout",
     "output_type": "stream",
     "text": [
      "5 tensor(121.6137)\n"
     ]
    },
    {
     "data": {
      "application/vnd.jupyter.widget-view+json": {
       "model_id": "",
       "version_major": 2,
       "version_minor": 0
      },
      "text/plain": [
       "HBox(children=(IntProgress(value=0, description='train', max=192, style=ProgressStyle(description_width='initi…"
      ]
     },
     "metadata": {},
     "output_type": "display_data"
    },
    {
     "data": {
      "application/vnd.jupyter.widget-view+json": {
       "model_id": "",
       "version_major": 2,
       "version_minor": 0
      },
      "text/plain": [
       "HBox(children=(IntProgress(value=0, description='train', max=192, style=ProgressStyle(description_width='initi…"
      ]
     },
     "metadata": {},
     "output_type": "display_data"
    },
    {
     "data": {
      "application/vnd.jupyter.widget-view+json": {
       "model_id": "",
       "version_major": 2,
       "version_minor": 0
      },
      "text/plain": [
       "HBox(children=(IntProgress(value=0, description='train', max=192, style=ProgressStyle(description_width='initi…"
      ]
     },
     "metadata": {},
     "output_type": "display_data"
    },
    {
     "data": {
      "application/vnd.jupyter.widget-view+json": {
       "model_id": "",
       "version_major": 2,
       "version_minor": 0
      },
      "text/plain": [
       "HBox(children=(IntProgress(value=0, description='train', max=192, style=ProgressStyle(description_width='initi…"
      ]
     },
     "metadata": {},
     "output_type": "display_data"
    },
    {
     "data": {
      "application/vnd.jupyter.widget-view+json": {
       "model_id": "",
       "version_major": 2,
       "version_minor": 0
      },
      "text/plain": [
       "HBox(children=(IntProgress(value=0, description='train', max=192, style=ProgressStyle(description_width='initi…"
      ]
     },
     "metadata": {},
     "output_type": "display_data"
    },
    {
     "name": "stdout",
     "output_type": "stream",
     "text": [
      "10 tensor(105.8335)\n"
     ]
    },
    {
     "data": {
      "application/vnd.jupyter.widget-view+json": {
       "model_id": "",
       "version_major": 2,
       "version_minor": 0
      },
      "text/plain": [
       "HBox(children=(IntProgress(value=0, description='train', max=192, style=ProgressStyle(description_width='initi…"
      ]
     },
     "metadata": {},
     "output_type": "display_data"
    },
    {
     "data": {
      "application/vnd.jupyter.widget-view+json": {
       "model_id": "",
       "version_major": 2,
       "version_minor": 0
      },
      "text/plain": [
       "HBox(children=(IntProgress(value=0, description='train', max=192, style=ProgressStyle(description_width='initi…"
      ]
     },
     "metadata": {},
     "output_type": "display_data"
    },
    {
     "data": {
      "application/vnd.jupyter.widget-view+json": {
       "model_id": "",
       "version_major": 2,
       "version_minor": 0
      },
      "text/plain": [
       "HBox(children=(IntProgress(value=0, description='train', max=192, style=ProgressStyle(description_width='initi…"
      ]
     },
     "metadata": {},
     "output_type": "display_data"
    },
    {
     "data": {
      "application/vnd.jupyter.widget-view+json": {
       "model_id": "",
       "version_major": 2,
       "version_minor": 0
      },
      "text/plain": [
       "HBox(children=(IntProgress(value=0, description='train', max=192, style=ProgressStyle(description_width='initi…"
      ]
     },
     "metadata": {},
     "output_type": "display_data"
    },
    {
     "data": {
      "application/vnd.jupyter.widget-view+json": {
       "model_id": "",
       "version_major": 2,
       "version_minor": 0
      },
      "text/plain": [
       "HBox(children=(IntProgress(value=0, description='train', max=192, style=ProgressStyle(description_width='initi…"
      ]
     },
     "metadata": {},
     "output_type": "display_data"
    },
    {
     "name": "stdout",
     "output_type": "stream",
     "text": [
      "15 tensor(93.8257)\n"
     ]
    },
    {
     "data": {
      "application/vnd.jupyter.widget-view+json": {
       "model_id": "",
       "version_major": 2,
       "version_minor": 0
      },
      "text/plain": [
       "HBox(children=(IntProgress(value=0, description='train', max=192, style=ProgressStyle(description_width='initi…"
      ]
     },
     "metadata": {},
     "output_type": "display_data"
    },
    {
     "data": {
      "application/vnd.jupyter.widget-view+json": {
       "model_id": "",
       "version_major": 2,
       "version_minor": 0
      },
      "text/plain": [
       "HBox(children=(IntProgress(value=0, description='train', max=192, style=ProgressStyle(description_width='initi…"
      ]
     },
     "metadata": {},
     "output_type": "display_data"
    },
    {
     "data": {
      "application/vnd.jupyter.widget-view+json": {
       "model_id": "",
       "version_major": 2,
       "version_minor": 0
      },
      "text/plain": [
       "HBox(children=(IntProgress(value=0, description='train', max=192, style=ProgressStyle(description_width='initi…"
      ]
     },
     "metadata": {},
     "output_type": "display_data"
    },
    {
     "data": {
      "application/vnd.jupyter.widget-view+json": {
       "model_id": "",
       "version_major": 2,
       "version_minor": 0
      },
      "text/plain": [
       "HBox(children=(IntProgress(value=0, description='train', max=192, style=ProgressStyle(description_width='initi…"
      ]
     },
     "metadata": {},
     "output_type": "display_data"
    },
    {
     "data": {
      "application/vnd.jupyter.widget-view+json": {
       "model_id": "",
       "version_major": 2,
       "version_minor": 0
      },
      "text/plain": [
       "HBox(children=(IntProgress(value=0, description='train', max=192, style=ProgressStyle(description_width='initi…"
      ]
     },
     "metadata": {},
     "output_type": "display_data"
    },
    {
     "name": "stdout",
     "output_type": "stream",
     "text": [
      "20 tensor(85.0816)\n"
     ]
    },
    {
     "data": {
      "application/vnd.jupyter.widget-view+json": {
       "model_id": "",
       "version_major": 2,
       "version_minor": 0
      },
      "text/plain": [
       "HBox(children=(IntProgress(value=0, description='train', max=192, style=ProgressStyle(description_width='initi…"
      ]
     },
     "metadata": {},
     "output_type": "display_data"
    },
    {
     "data": {
      "application/vnd.jupyter.widget-view+json": {
       "model_id": "",
       "version_major": 2,
       "version_minor": 0
      },
      "text/plain": [
       "HBox(children=(IntProgress(value=0, description='train', max=192, style=ProgressStyle(description_width='initi…"
      ]
     },
     "metadata": {},
     "output_type": "display_data"
    },
    {
     "data": {
      "application/vnd.jupyter.widget-view+json": {
       "model_id": "",
       "version_major": 2,
       "version_minor": 0
      },
      "text/plain": [
       "HBox(children=(IntProgress(value=0, description='train', max=192, style=ProgressStyle(description_width='initi…"
      ]
     },
     "metadata": {},
     "output_type": "display_data"
    },
    {
     "data": {
      "application/vnd.jupyter.widget-view+json": {
       "model_id": "",
       "version_major": 2,
       "version_minor": 0
      },
      "text/plain": [
       "HBox(children=(IntProgress(value=0, description='train', max=192, style=ProgressStyle(description_width='initi…"
      ]
     },
     "metadata": {},
     "output_type": "display_data"
    },
    {
     "data": {
      "application/vnd.jupyter.widget-view+json": {
       "model_id": "",
       "version_major": 2,
       "version_minor": 0
      },
      "text/plain": [
       "HBox(children=(IntProgress(value=0, description='train', max=192, style=ProgressStyle(description_width='initi…"
      ]
     },
     "metadata": {},
     "output_type": "display_data"
    },
    {
     "name": "stdout",
     "output_type": "stream",
     "text": [
      "25 tensor(76.8355)\n",
      "0.7263355201499532\n"
     ]
    }
   ],
   "source": [
    "non_static = [True, False, True]\n",
    "U = [\"rand\", \"vec\", \"vec\"]\n",
    "accuracies = []\n",
    "train_x_idx, train_y, test_x_idx, test_y = make_idx_data(revs, word_idx_map, max_l=max_l, k=k)    # 9595 1067 X 56\n",
    "for i in tqdm_notebook(range(3), desc='i', leave=False):\n",
    "    train_x = make_data(train_x_idx, W[U[i]], max_l=max_l, k=k) # 9595, 1, 16800\n",
    "    test_x = make_data(test_x_idx, W[U[i]], max_l=max_l, k=k)\n",
    "    train = TensorDataset(train_x, train_y)\n",
    "    train_loader = DataLoader(train, batch_size=50)\n",
    "    accuracy = cnn_trainer(train_loader, test_x, test_y, W[U[i]], non_static[i], h=[3,4,5], feature=100, p=0.5, s=3, k=k)\n",
    "    accuracies.append(accuracy)\n",
    "    print(accuracy)"
   ]
  },
  {
   "cell_type": "code",
   "execution_count": 91,
   "metadata": {},
   "outputs": [
    {
     "name": "stdout",
     "output_type": "stream",
     "text": [
      "[0.7207122774133083, 0.7357075913776945, 0.7263355201499532]\n"
     ]
    }
   ],
   "source": [
    "print(accuracies)"
   ]
  },
  {
   "cell_type": "code",
   "execution_count": 92,
   "metadata": {},
   "outputs": [
    {
     "name": "stdout",
     "output_type": "stream",
     "text": [
      "torch.Size([10, 10, 3]) torch.Size([10, 10, 3])\n",
      "tensor([[[-4.5743e-01, -2.8455e-01, -9.7749e-02],\n",
      "         [-1.2987e+00,  1.1283e+00,  8.4845e-01],\n",
      "         [ 3.0455e-01, -4.5823e-01,  1.0398e-01],\n",
      "         [ 8.4749e-01, -7.7719e-01,  5.1993e-02],\n",
      "         [-1.1690e+00, -9.6750e-01,  2.4085e-01],\n",
      "         [ 2.8571e-01,  1.7029e-01, -4.3393e-01],\n",
      "         [ 7.4379e-01, -8.5026e-01, -1.0433e+00],\n",
      "         [-3.1117e-01,  7.1916e-03, -3.7647e-02],\n",
      "         [ 4.7953e-01, -5.5254e-01,  1.7203e-02],\n",
      "         [ 7.4999e-01,  9.4306e-01, -4.0194e-01]],\n",
      "\n",
      "        [[ 8.2265e-01,  5.4181e-01, -9.4665e-03],\n",
      "         [-5.2915e-01,  1.5278e-01,  1.3603e+00],\n",
      "         [ 7.0269e-02,  4.0740e-01, -8.9061e-01],\n",
      "         [-2.5486e-01,  5.9061e-01, -7.9181e-01],\n",
      "         [-1.2759e+00,  1.2534e-01,  5.3991e-02],\n",
      "         [ 9.4586e-01, -1.0107e+00,  4.2233e-01],\n",
      "         [-2.9826e-01,  5.2023e-01, -1.2679e+00],\n",
      "         [ 2.8073e-01,  2.5267e-01, -9.0995e-01],\n",
      "         [-6.6271e-01, -2.9449e-02,  6.9448e-01],\n",
      "         [ 5.6035e-01, -2.8056e-01,  2.4290e-01]],\n",
      "\n",
      "        [[-3.1775e-01, -2.1906e-01, -5.2254e-01],\n",
      "         [-1.8933e-01,  8.8266e-01,  6.2844e-01],\n",
      "         [-3.5528e-02, -7.3839e-02,  8.2965e-02],\n",
      "         [-1.6946e-01, -2.7196e-02, -3.2413e-01],\n",
      "         [-3.2268e-01, -4.0039e-01, -4.5210e-01],\n",
      "         [ 6.9783e-02, -3.5491e-01, -6.4629e-02],\n",
      "         [-5.5754e-01, -4.1707e-01, -3.3362e-01],\n",
      "         [-6.8564e-01,  3.0620e-01,  6.0318e-01],\n",
      "         [-3.8584e-01, -2.0329e-02, -5.4482e-01],\n",
      "         [-3.2861e-01,  5.9734e-01,  8.4620e-01]],\n",
      "\n",
      "        [[ 8.6652e-02, -9.0412e-02,  4.0370e-01],\n",
      "         [ 1.0847e+00, -2.0429e-01, -6.4162e-02],\n",
      "         [-9.0458e-02,  1.4524e-01, -4.6504e-01],\n",
      "         [-2.8141e-01, -3.0451e-01, -7.8502e-01],\n",
      "         [ 4.3050e-02, -2.4410e-01, -4.0787e-01],\n",
      "         [-6.3353e-01, -2.3764e-01,  2.2968e-01],\n",
      "         [-6.7245e-01,  4.5261e-02, -6.3366e-01],\n",
      "         [ 4.5797e-01,  5.0821e-01, -6.7507e-01],\n",
      "         [-4.3247e-01, -1.2454e+00, -7.5470e-01],\n",
      "         [ 2.4268e-03,  2.6079e-01, -3.7918e-01]],\n",
      "\n",
      "        [[-2.9593e-01,  1.2304e+00, -1.6240e-01],\n",
      "         [ 2.6161e-01,  5.1361e-01,  6.2199e-01],\n",
      "         [ 4.8977e-02, -9.5650e-02,  7.5628e-02],\n",
      "         [-2.0093e-01,  3.0042e-01, -3.0571e-01],\n",
      "         [-5.5660e-01, -1.9777e-01, -1.9963e-01],\n",
      "         [ 6.4589e-02,  3.7007e-01,  8.1235e-02],\n",
      "         [-1.0060e+00, -7.8743e-02, -8.2929e-01],\n",
      "         [-7.7266e-02, -8.1832e-02,  4.3132e-01],\n",
      "         [-3.7569e-01,  3.2836e-01,  1.3035e-01],\n",
      "         [ 1.2456e-01,  4.2389e-01,  4.4968e-01]],\n",
      "\n",
      "        [[ 8.0809e-01,  3.3633e-01,  5.1371e-01],\n",
      "         [ 1.0077e+00,  4.3677e-01,  4.9125e-01],\n",
      "         [-8.3647e-01, -3.1576e-02, -2.1048e-01],\n",
      "         [-4.3806e-01,  1.6321e-01, -8.7093e-02],\n",
      "         [-1.5329e-01, -9.9616e-02,  6.8199e-01],\n",
      "         [ 7.2621e-01,  5.5714e-01, -1.2569e-01],\n",
      "         [-3.9185e-01, -5.2028e-01, -1.7366e-01],\n",
      "         [-1.5028e-01, -3.6032e-02,  1.3921e-01],\n",
      "         [ 3.0887e-01, -3.3385e-01, -3.0143e-01],\n",
      "         [ 1.1302e+00,  6.5235e-01,  3.6581e-01]],\n",
      "\n",
      "        [[ 4.2002e-01,  8.7689e-01, -1.2781e+00],\n",
      "         [-5.7142e-01, -6.5917e-01,  6.4138e-02],\n",
      "         [ 8.5127e-02, -1.8418e-01, -1.1728e-01],\n",
      "         [-3.7298e-01,  7.7623e-01, -3.2593e-01],\n",
      "         [-4.1560e-01, -4.1135e-01, -9.8694e-01],\n",
      "         [-1.1725e-01,  1.4159e-03,  4.2507e-01],\n",
      "         [-1.1671e+00,  2.9223e-01, -1.0869e+00],\n",
      "         [-3.2962e-01, -1.3756e+00, -8.7885e-02],\n",
      "         [ 4.6371e-02,  5.3943e-01,  2.7048e-01],\n",
      "         [-1.2810e+00, -7.2368e-01,  9.2694e-01]],\n",
      "\n",
      "        [[-6.8295e-01, -7.0364e-02, -1.2698e+00],\n",
      "         [-4.3463e-01,  9.6472e-01,  2.0316e-01],\n",
      "         [ 4.9355e-01, -3.9536e-01,  1.8347e-01],\n",
      "         [ 4.5335e-01, -3.1517e-01, -5.6359e-01],\n",
      "         [-5.6182e-01, -5.2929e-01, -6.1792e-01],\n",
      "         [-3.9342e-01, -3.6156e-02, -2.4980e-01],\n",
      "         [-1.9344e-01, -2.8043e-01, -1.0255e+00],\n",
      "         [ 1.4911e-01, -2.2519e-01,  5.3529e-02],\n",
      "         [ 2.4308e-02, -1.9879e-01, -5.7140e-01],\n",
      "         [ 1.3678e-02,  6.5147e-01,  1.0156e-01]],\n",
      "\n",
      "        [[ 9.5144e-01, -6.3245e-01, -1.8179e-01],\n",
      "         [-6.9323e-01,  3.4777e-01,  5.8050e-01],\n",
      "         [-2.3583e-01,  3.9571e-01, -2.9758e-01],\n",
      "         [-4.6597e-01,  1.2601e-01, -2.5734e-01],\n",
      "         [-1.7162e+00, -1.6286e-01, -2.0166e-01],\n",
      "         [ 1.9171e+00, -1.1303e+00, -4.1406e-01],\n",
      "         [-1.5154e-01, -1.0854e+00, -1.1362e+00],\n",
      "         [ 2.1705e-02, -3.7019e-01, -6.2132e-01],\n",
      "         [-1.7823e-01, -1.1330e-03, -4.9062e-01],\n",
      "         [ 1.4014e+00, -1.3444e+00, -7.1370e-01]],\n",
      "\n",
      "        [[-7.8275e-01, -2.9386e-01,  1.2268e+00],\n",
      "         [-1.4486e+00,  2.7389e-01, -2.3936e-02],\n",
      "         [ 3.6718e-01, -4.0896e-01, -5.9198e-01],\n",
      "         [ 4.2882e-01, -8.2869e-01, -2.1498e-01],\n",
      "         [-1.3408e+00, -1.5942e-01, -5.8592e-01],\n",
      "         [ 8.3137e-01, -5.6169e-01,  1.1039e+00],\n",
      "         [ 2.1656e-01, -4.6950e-01, -4.6187e-01],\n",
      "         [-5.2573e-02,  5.4445e-02, -8.1978e-01],\n",
      "         [-3.5023e-01, -8.9769e-01,  2.2224e-02],\n",
      "         [ 1.1053e+00,  3.8434e-02,  2.5845e-01]]], grad_fn=<SqueezeBackward1>)\n",
      "tensor([[[-0.2527,  0.5318,  0.2412],\n",
      "         [ 0.9461,  1.3413,  0.3064],\n",
      "         [-0.1651,  0.0351,  0.1037],\n",
      "         [ 1.2002,  0.6466, -0.1117],\n",
      "         [-1.1653, -0.8385, -0.0330],\n",
      "         [ 0.6201,  0.0074, -0.0485],\n",
      "         [-0.9840, -0.5750, -0.3311],\n",
      "         [ 0.1342,  0.3703, -0.6643],\n",
      "         [ 0.1303, -1.4067, -0.6100],\n",
      "         [ 0.1814,  0.0199, -0.6328]],\n",
      "\n",
      "        [[ 0.2689,  0.6693,  0.6322],\n",
      "         [ 1.1728,  0.6842,  0.2654],\n",
      "         [ 0.8755, -0.3344,  0.5252],\n",
      "         [-0.8853, -0.6000, -0.6792],\n",
      "         [ 0.5227, -0.8181,  0.7626],\n",
      "         [-0.4744,  0.6932, -0.2755],\n",
      "         [-0.1252, -0.3653, -0.0731],\n",
      "         [ 0.1646, -0.0284,  0.3600],\n",
      "         [-1.3754,  0.9639, -0.4911],\n",
      "         [-0.0717,  0.6014, -0.2261]],\n",
      "\n",
      "        [[ 1.4646,  0.0535,  0.8344],\n",
      "         [-0.8284,  0.5263, -0.0208],\n",
      "         [-0.2395, -0.2792, -0.3140],\n",
      "         [-0.6032, -0.3319, -2.2923],\n",
      "         [ 0.5998, -0.0609, -0.2268],\n",
      "         [ 0.0451, -0.6082,  0.1761],\n",
      "         [-0.4269,  0.0315,  0.9905],\n",
      "         [-0.7737,  0.3662, -0.4739],\n",
      "         [-0.2351,  0.6405,  0.7937],\n",
      "         [-0.6952, -0.1046,  0.7968]],\n",
      "\n",
      "        [[ 0.2622,  0.2260,  0.3538],\n",
      "         [ 0.1721, -0.1795,  0.1735],\n",
      "         [ 0.7583, -0.3865,  0.0334],\n",
      "         [-0.0659,  0.0976,  0.2766],\n",
      "         [ 0.2700, -0.6693,  1.0759],\n",
      "         [-0.2916,  0.5177,  0.0142],\n",
      "         [-0.1505,  0.1280, -0.3166],\n",
      "         [ 0.1038,  0.0598, -0.0639],\n",
      "         [-0.5020, -0.1036,  0.6491],\n",
      "         [-0.2968,  0.1265, -0.8667]],\n",
      "\n",
      "        [[ 1.3313, -0.2147, -0.2486],\n",
      "         [-0.3464,  0.4332,  0.1938],\n",
      "         [-0.6059, -0.3691, -0.2400],\n",
      "         [-0.1060, -0.2127,  0.2387],\n",
      "         [-0.2954, -0.3204, -1.0453],\n",
      "         [-0.8589,  0.5381,  0.9011],\n",
      "         [-0.1270,  0.1500,  0.3448],\n",
      "         [-1.1507, -0.5262,  0.6492],\n",
      "         [ 0.2291,  0.6867,  0.7020],\n",
      "         [-0.7969, -1.0177,  0.1631]],\n",
      "\n",
      "        [[-0.9530, -0.4144,  0.9518],\n",
      "         [-0.1816,  0.2294,  0.1936],\n",
      "         [ 0.1136,  0.5268, -0.2164],\n",
      "         [ 0.6045, -0.2017, -1.0142],\n",
      "         [-0.3361,  0.2998, -0.3429],\n",
      "         [ 0.2633,  0.3952, -0.7550],\n",
      "         [ 0.4255, -0.7762,  1.0672],\n",
      "         [-0.1615,  0.3502, -0.0597],\n",
      "         [ 0.1667,  0.7110, -0.9118],\n",
      "         [-0.7366,  0.3849, -0.1806]],\n",
      "\n",
      "        [[-0.7475,  0.9881, -0.6681],\n",
      "         [ 1.5232,  0.1641,  0.2514],\n",
      "         [-0.1925, -0.2870,  0.0768],\n",
      "         [ 0.8018, -0.0257,  0.0371],\n",
      "         [-0.9966, -0.7564, -0.2232],\n",
      "         [ 0.5115, -0.8932,  0.0418],\n",
      "         [-0.2747,  0.2899,  0.1731],\n",
      "         [ 1.1755, -0.6357, -0.5569],\n",
      "         [ 0.0230, -1.4072, -0.2710],\n",
      "         [ 0.1272,  0.2960, -0.5343]],\n",
      "\n",
      "        [[ 0.0958, -0.2490,  0.0341],\n",
      "         [ 0.1373,  0.3738,  1.2878],\n",
      "         [ 0.1919,  0.9759,  0.5083],\n",
      "         [ 0.6835,  0.2733, -0.1009],\n",
      "         [-0.1698,  0.9897,  0.0756],\n",
      "         [ 0.5506, -0.5172, -0.2601],\n",
      "         [-0.6527, -1.4367, -0.3894],\n",
      "         [-0.5271,  0.0929,  0.2941],\n",
      "         [-0.5963, -0.1584, -0.5457],\n",
      "         [-0.2309, -0.0346,  0.0991]],\n",
      "\n",
      "        [[ 0.4060, -0.4765,  0.5190],\n",
      "         [-0.0928, -0.1556,  0.2821],\n",
      "         [ 0.5318,  0.7023,  1.2474],\n",
      "         [-0.0253, -0.6471, -1.1179],\n",
      "         [ 0.5026,  1.4364,  0.4811],\n",
      "         [ 0.5582, -0.4036, -0.5871],\n",
      "         [-0.7871, -0.2660, -0.4255],\n",
      "         [ 0.7939, -0.3992,  0.5298],\n",
      "         [ 0.7643,  0.1421,  0.0163],\n",
      "         [ 0.3285,  0.4429,  0.2264]],\n",
      "\n",
      "        [[ 0.2925, -0.5474, -0.8536],\n",
      "         [ 0.1172,  0.5948,  0.5607],\n",
      "         [ 0.0978,  0.2222,  0.6305],\n",
      "         [-1.0126,  0.8500,  0.2934],\n",
      "         [ 0.8845,  0.3749, -0.1902],\n",
      "         [-0.0469, -0.0816,  1.2164],\n",
      "         [ 0.3394, -0.1362, -0.1591],\n",
      "         [-0.8580, -0.0503, -0.0069],\n",
      "         [-0.3820, -0.7946,  0.4195],\n",
      "         [ 0.0342, -1.0586,  0.3009]]], grad_fn=<SqueezeBackward1>)\n"
     ]
    }
   ],
   "source": [
    "conv1 = nn.Conv1d(1, 10, 10, 5)\n",
    "conv2 = nn.Conv1d(2, 10, 10, 5)\n",
    "i1 = torch.randn(10, 1, 20)\n",
    "i2 = torch.randn(10, 2, 20)\n",
    "c1 = conv1(i1)\n",
    "c2 = conv2(i2)\n",
    "print(c1.size(), c2.size())\n",
    "print(c1)\n",
    "print(c2)"
   ]
  },
  {
   "cell_type": "code",
   "execution_count": null,
   "metadata": {},
   "outputs": [],
   "source": []
  }
 ],
 "metadata": {
  "kernelspec": {
   "display_name": "Python 3",
   "language": "python",
   "name": "python3"
  },
  "language_info": {
   "codemirror_mode": {
    "name": "ipython",
    "version": 3
   },
   "file_extension": ".py",
   "mimetype": "text/x-python",
   "name": "python",
   "nbconvert_exporter": "python",
   "pygments_lexer": "ipython3",
   "version": "3.7.3"
  }
 },
 "nbformat": 4,
 "nbformat_minor": 2
}
