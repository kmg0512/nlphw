{
 "cells": [
  {
   "cell_type": "code",
   "execution_count": 1,
   "metadata": {},
   "outputs": [],
   "source": [
    "import torch\n",
    "from random import *\n",
    "from collections import Counter\n",
    "import argparse\n",
    "from huffman import HuffmanCoding\n",
    "import time\n",
    "import math"
   ]
  },
  {
   "cell_type": "code",
   "execution_count": 4,
   "metadata": {},
   "outputs": [],
   "source": [
    "mode = \"SG\" # \"SG\" for skipgram, \"CBOW\" for CBOW\n",
    "part = \"part\" # \"part\" if you want to train on a part of corpus, \"full\" if you want to train on full corpus\n",
    "ns = 0 # 0 for hierarchical softmax, the other numbers would be the number of negative samples"
   ]
  },
  {
   "cell_type": "markdown",
   "metadata": {},
   "source": [
    "## Loading text8"
   ]
  },
  {
   "cell_type": "code",
   "execution_count": 6,
   "metadata": {},
   "outputs": [
    {
     "name": "stdout",
     "output_type": "stream",
     "text": [
      "loading...\n"
     ]
    }
   ],
   "source": [
    "if part==\"part\":\n",
    "    text = open('text8',mode='r').readlines()[0][:1000000] #Load a part of corpus for debugging\n",
    "elif part==\"full\":\n",
    "    text = open('text8',mode='r').readlines()[0] #Load full corpus for submission\n",
    "else:\n",
    "    print(\"Unknown argument : \" + part)\n",
    "    exit()"
   ]
  },
  {
   "cell_type": "markdown",
   "metadata": {},
   "source": [
    "## Preprocessing"
   ]
  },
  {
   "cell_type": "code",
   "execution_count": 8,
   "metadata": {},
   "outputs": [],
   "source": [
    "word_seq = text.split()\n",
    "corpus=[]\n",
    "t = 10e-5\n",
    "f = Counter(word_seq)\n",
    "l = len(word_seq)\n",
    "\n",
    "for word in word_seq:\n",
    "    p = 1 - math.sqrt(t / (f[word] / l))\n",
    "    if p <= random():\n",
    "        corpus.append(word)\n",
    "\n",
    "stats = Counter(corpus)\n",
    "words = []"
   ]
  },
  {
   "cell_type": "markdown",
   "metadata": {},
   "source": [
    "## Discard rare words"
   ]
  },
  {
   "cell_type": "code",
   "execution_count": 11,
   "metadata": {},
   "outputs": [],
   "source": [
    "for word in corpus:\n",
    "    if stats[word]>4:\n",
    "        words.append(word)\n",
    "vocab = set(words)"
   ]
  },
  {
   "cell_type": "markdown",
   "metadata": {},
   "source": [
    "## Give an index number to a word"
   ]
  },
  {
   "cell_type": "code",
   "execution_count": 12,
   "metadata": {},
   "outputs": [],
   "source": [
    "w2i = {}\n",
    "w2i[\" \"]=0\n",
    "i = 1\n",
    "for word in vocab:\n",
    "    w2i[word] = i\n",
    "    i+=1\n",
    "i2w = {}\n",
    "for k,v in w2i.items():\n",
    "    i2w[v]=k"
   ]
  },
  {
   "cell_type": "markdown",
   "metadata": {},
   "source": [
    "## Code dict for hierarchical softmax"
   ]
  },
  {
   "cell_type": "code",
   "execution_count": 13,
   "metadata": {},
   "outputs": [],
   "source": [
    "freqdict={}\n",
    "freqdict[0]=10\n",
    "for word in vocab:\n",
    "    freqdict[w2i[word]]=stats[word]\n",
    "codedict, nodecode = HuffmanCoding().build(freqdict)"
   ]
  },
  {
   "cell_type": "markdown",
   "metadata": {},
   "source": [
    "## Frequency table for negative sampling"
   ]
  },
  {
   "cell_type": "code",
   "execution_count": 14,
   "metadata": {},
   "outputs": [],
   "source": [
    "freqtable = [0,0,0]\n",
    "for k,v in stats.items():\n",
    "    f = int(v**0.75)\n",
    "    for _ in range(f):\n",
    "        if k in w2i.keys():\n",
    "            freqtable.append(w2i[k])"
   ]
  },
  {
   "cell_type": "markdown",
   "metadata": {},
   "source": [
    "## Build training set"
   ]
  },
  {
   "cell_type": "code",
   "execution_count": 16,
   "metadata": {},
   "outputs": [],
   "source": [
    "input_set = []\n",
    "target_set = []\n",
    "window_size = 5\n",
    "if mode==\"CBOW\":\n",
    "    for j in range(len(words)):\n",
    "        if j<window_size:\n",
    "            input_set.append([0 for _ in range(window_size-j)] + [w2i[words[k]] for k in range(j)] + [w2i[words[j+k+1]] for k in range(window_size)])\n",
    "            target_set.append(w2i[words[j]])\n",
    "        elif j>=len(words)-window_size:\n",
    "            input_set.append([w2i[words[j-k-1]] for k in range(window_size)] + [w2i[words[len(words)-k-1]] for k in range(len(words)-j-1)] + [0 for _ in range(j+window_size-len(words)+1)])\n",
    "            target_set.append(w2i[words[j]])\n",
    "        else:\n",
    "            input_set.append([w2i[words[j-k-1]] for k in range(window_size)] + [w2i[words[j+k+1]] for k in range(window_size)])\n",
    "            target_set.append(w2i[words[j]])\n",
    "if mode==\"SG\":\n",
    "    for j in range(len(words)):\n",
    "        if j<window_size:\n",
    "            input_set += [w2i[words[j]] for _ in range(window_size*2)]\n",
    "            target_set += [0 for _ in range(window_size-j)] + [w2i[words[k]] for k in range(j)] + [w2i[words[j+k+1]] for k in range(window_size)]\n",
    "        elif j>=len(words)-window_size:\n",
    "            input_set += [w2i[words[j]] for _ in range(window_size*2)]\n",
    "            target_set += [w2i[words[j-k-1]] for k in range(window_size)] + [w2i[words[len(words)-k-1]] for k in range(len(words)-j-1)] + [0 for _ in range(j+window_size-len(words)+1)]\n",
    "        else:\n",
    "            input_set += [w2i[words[j]] for _ in range(window_size*2)]\n",
    "            target_set += [w2i[words[j-k-1]] for k in range(window_size)] + [w2i[words[j+k+1]] for k in range(window_size)]"
   ]
  },
  {
   "cell_type": "code",
   "execution_count": 17,
   "metadata": {},
   "outputs": [
    {
     "name": "stdout",
     "output_type": "stream",
     "text": [
      "Vocabulary size\n",
      "3971\n",
      "\n"
     ]
    }
   ],
   "source": [
    "print(\"Vocabulary size\")\n",
    "print(len(w2i))\n",
    "print()"
   ]
  },
  {
   "cell_type": "code",
   "execution_count": null,
   "metadata": {},
   "outputs": [],
   "source": []
  }
 ],
 "metadata": {
  "kernelspec": {
   "display_name": "Python 3",
   "language": "python",
   "name": "python3"
  },
  "language_info": {
   "codemirror_mode": {
    "name": "ipython",
    "version": 3
   },
   "file_extension": ".py",
   "mimetype": "text/x-python",
   "name": "python",
   "nbconvert_exporter": "python",
   "pygments_lexer": "ipython3",
   "version": "3.7.3"
  }
 },
 "nbformat": 4,
 "nbformat_minor": 2
}
